{
 "cells": [
  {
   "cell_type": "code",
   "execution_count": 1,
   "metadata": {},
   "outputs": [],
   "source": [
    "# Question2\n",
    "\n",
    "chicken_voice: str = \"꼬끼오\"\n",
    "loc_and_date: str = \"서울시 종로구 2020년 10월 10일\"\n",
    "distance: float = 3.9\n",
    "num_of_cat: int = 1\n",
    "\n"
   ]
  },
  {
   "cell_type": "code",
   "execution_count": 2,
   "metadata": {},
   "outputs": [
    {
     "data": {
      "text/plain": [
       "bool"
      ]
     },
     "execution_count": 2,
     "metadata": {},
     "output_type": "execute_result"
    }
   ],
   "source": [
    "str()\n",
    "print()\n",
    "bool()\n",
    "float()"
   ]
  },
  {
   "cell_type": "code",
   "execution_count": 3,
   "metadata": {},
   "outputs": [
    {
     "data": {
      "text/plain": [
       "bool"
      ]
     },
     "execution_count": 3,
     "metadata": {},
     "output_type": "execute_result"
    }
   ],
   "source": [
    "bool"
   ]
  },
  {
   "cell_type": "code",
   "execution_count": 13,
   "metadata": {},
   "outputs": [
    {
     "name": "stdout",
     "output_type": "stream",
     "text": [
      "True\n",
      "User input 4 and 4 with a string Haha. The boolean value is True.\n",
      "User input 4 and 4 with a string Haha. The boolean value is True.\n"
     ]
    }
   ],
   "source": [
    "input1 = input()\n",
    "input2 = input()\n",
    "input_str = input(\"Kirara\")\n",
    "\n",
    "modulo_result = str(int(input1) % int(input2) == 0)\n",
    "string_out = \"User input\" + \" \" + str(input1) + \" \" + \"and\" + \" \"+ str(input2) + \" \" + \"with a string\"+\" \"+str(input_str)+\".\"+\" \"+ \"The boolean value is\"+\" \"+ modulo_result +\".\"\n",
    "string_out_format = f\"User input {input1} and {input2} with a string {input_str}. The boolean value is {modulo_result}.\"\n",
    "\n",
    "print(modulo_result)\n",
    "print(string_out)\n",
    "print(string_out_format)\n"
   ]
  },
  {
   "cell_type": "code",
   "execution_count": null,
   "metadata": {},
   "outputs": [],
   "source": []
  }
 ],
 "metadata": {
  "kernelspec": {
   "display_name": "base",
   "language": "python",
   "name": "python3"
  },
  "language_info": {
   "codemirror_mode": {
    "name": "ipython",
    "version": 3
   },
   "file_extension": ".py",
   "mimetype": "text/x-python",
   "name": "python",
   "nbconvert_exporter": "python",
   "pygments_lexer": "ipython3",
   "version": "3.9.1"
  },
  "orig_nbformat": 4
 },
 "nbformat": 4,
 "nbformat_minor": 2
}
