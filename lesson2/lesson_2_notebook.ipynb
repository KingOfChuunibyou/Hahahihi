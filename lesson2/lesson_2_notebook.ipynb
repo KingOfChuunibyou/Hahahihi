{
 "cells": [
  {
   "cell_type": "code",
   "execution_count": 125,
   "metadata": {},
   "outputs": [
    {
     "name": "stdout",
     "output_type": "stream",
     "text": [
      "' \" Archel'\n"
     ]
    }
   ],
   "source": [
    "nama = \"' \\\" Archel'\"\n",
    "\n",
    "print(nama)"
   ]
  },
  {
   "cell_type": "code",
   "execution_count": 126,
   "metadata": {},
   "outputs": [
    {
     "name": "stdout",
     "output_type": "stream",
     "text": [
      "' \" Archel' hehe\n"
     ]
    }
   ],
   "source": [
    "print(f\"{nama} hehe\")"
   ]
  },
  {
   "cell_type": "code",
   "execution_count": 127,
   "metadata": {},
   "outputs": [
    {
     "name": "stdout",
     "output_type": "stream",
     "text": [
      "haha||||hehe\n"
     ]
    }
   ],
   "source": [
    "print(\"haha\", \"hehe\", sep=\"||||\")"
   ]
  },
  {
   "cell_type": "code",
   "execution_count": 128,
   "metadata": {},
   "outputs": [
    {
     "data": {
      "text/plain": [
       "bool"
      ]
     },
     "execution_count": 128,
     "metadata": {},
     "output_type": "execute_result"
    }
   ],
   "source": [
    "type(3 > 2)"
   ]
  },
  {
   "cell_type": "code",
   "execution_count": 129,
   "metadata": {},
   "outputs": [
    {
     "name": "stdout",
     "output_type": "stream",
     "text": [
      "False\n"
     ]
    }
   ],
   "source": [
    "pset_time = 15\n",
    "sleep_time = 8\n",
    "print(sleep_time > pset_time)\n"
   ]
  },
  {
   "cell_type": "code",
   "execution_count": 130,
   "metadata": {},
   "outputs": [
    {
     "name": "stdout",
     "output_type": "stream",
     "text": [
      "False\n"
     ]
    }
   ],
   "source": [
    "derive = True\n",
    "drink = False\n",
    "both = drink and derive\n",
    "print(both)"
   ]
  },
  {
   "attachments": {},
   "cell_type": "markdown",
   "metadata": {},
   "source": [
    "# Hahaha\n",
    "hehehe"
   ]
  },
  {
   "cell_type": "code",
   "execution_count": 131,
   "metadata": {},
   "outputs": [
    {
     "name": "stdout",
     "output_type": "stream",
     "text": [
      "INN INN INN\n",
      "INN INN INN\n"
     ]
    }
   ],
   "source": [
    "if 2 > 3:\n",
    "    print(\"It works!\")\n",
    "elif 1 > 0:\n",
    "    print(\"INN INN INN\") \n",
    "else:\n",
    "    print(\"Ngawur koe, belajar dulu sono\")\n",
    "\n",
    "# ------------------------------\n",
    "if 2 > 3:\n",
    "    print(\"It works!\")\n",
    "elif 1 > 0:\n",
    "    print(\"INN INN INN\") \n",
    "else:\n",
    "    print(\"Ngawur koe, belajar dulu sono\")\n",
    "\n"
   ]
  },
  {
   "cell_type": "code",
   "execution_count": 132,
   "metadata": {},
   "outputs": [
    {
     "name": "stdout",
     "output_type": "stream",
     "text": [
      "4 is even\n",
      "3 is odd\n"
     ]
    }
   ],
   "source": [
    "if 4 % 2 == 0:\n",
    "    print(\"4 is even\")\n",
    "\n",
    "#------------------\n",
    "\n",
    "if 3 % 2 == 1:\n",
    "    print(\"3 is odd\")"
   ]
  },
  {
   "attachments": {},
   "cell_type": "markdown",
   "metadata": {},
   "source": [
    "## USE TAB"
   ]
  },
  {
   "cell_type": "code",
   "execution_count": 133,
   "metadata": {},
   "outputs": [
    {
     "name": "stdout",
     "output_type": "stream",
     "text": [
      "It works!\n",
      "HAHAHAHAHAHA\n",
      "Horee Masuk sini LAGIII\n",
      "NGOOOK\n"
     ]
    }
   ],
   "source": [
    "if 4 > 2:\n",
    "    print(\"It works!\")\n",
    "    print(\"HAHAHAHAHAHA\")\n",
    "    if 5 > 4:\n",
    "        print(\"Horee Masuk sini LAGIII\")\n",
    "elif 1 > 0:\n",
    "    print(\"Horee Masuk sini\") \n",
    "else:\n",
    "    print(\"Ngawur koe, belajar dulu sono\")\n",
    "\n",
    "print(\"NGOOOK\")"
   ]
  },
  {
   "cell_type": "code",
   "execution_count": 134,
   "metadata": {},
   "outputs": [],
   "source": [
    "is_archel_kucing = True\n",
    "is_archel_kenyang = False\n",
    "\n",
    "if (is_archel_kenyang == is_archel_kucing):\n",
    "    print(\"Archel kenyang\")"
   ]
  },
  {
   "cell_type": "code",
   "execution_count": 135,
   "metadata": {},
   "outputs": [
    {
     "name": "stdout",
     "output_type": "stream",
     "text": [
      "archel\n",
      "I before change is 3\n",
      "I after change is 4\n",
      "archel\n",
      "I before change is 4\n",
      "I after change is 5\n",
      "OUT LOOP!!\n"
     ]
    }
   ],
   "source": [
    "# Looping: BERULANG-ULANG\n",
    "\n",
    "# while loop\n",
    "i: int = 3\n",
    "\n",
    "while i < 5: \n",
    "    #  3 < 5 -> True\n",
    "    # i == 5, 5 < 5 -> False\n",
    "    print(\"archel\")\n",
    "    print(f\"I before change is {i}\")\n",
    "    i += 1\n",
    "    print(f\"I after change is {i}\")\n",
    "    # i = i + 1 -> i += 1\n",
    "\n",
    "print(\"OUT LOOP!!\")\n",
    "# for loop"
   ]
  },
  {
   "cell_type": "code",
   "execution_count": 136,
   "metadata": {},
   "outputs": [
    {
     "data": {
      "text/plain": [
       "range(0, 5)"
      ]
     },
     "execution_count": 136,
     "metadata": {},
     "output_type": "execute_result"
    }
   ],
   "source": [
    "range(5) # 0, 1, 2, 3, 4"
   ]
  },
  {
   "cell_type": "code",
   "execution_count": 137,
   "metadata": {},
   "outputs": [
    {
     "data": {
      "text/plain": [
       "[1, 3]"
      ]
     },
     "execution_count": 137,
     "metadata": {},
     "output_type": "execute_result"
    }
   ],
   "source": [
    "list(range(1,5,2))"
   ]
  },
  {
   "cell_type": "code",
   "execution_count": 138,
   "metadata": {},
   "outputs": [
    {
     "name": "stdout",
     "output_type": "stream",
     "text": [
      "4\n",
      "12\n",
      "7\n",
      "1\n"
     ]
    }
   ],
   "source": [
    "for i in [4,12,7,1]:\n",
    "    print(i)"
   ]
  },
  {
   "cell_type": "code",
   "execution_count": 139,
   "metadata": {},
   "outputs": [
    {
     "name": "stdout",
     "output_type": "stream",
     "text": [
      "4\n",
      "12\n",
      "7\n",
      "1\n"
     ]
    }
   ],
   "source": [
    "i = 4\n",
    "print(i)\n",
    "i = 12\n",
    "print(i)\n",
    "i = 7\n",
    "print(i)\n",
    "i = 1\n",
    "print(i)"
   ]
  },
  {
   "cell_type": "code",
   "execution_count": 140,
   "metadata": {},
   "outputs": [
    {
     "name": "stdout",
     "output_type": "stream",
     "text": [
      "24\n"
     ]
    }
   ],
   "source": [
    "mysum = 0\n",
    "\n",
    "for i in range(7, 10): # 7, 8, 9\n",
    "    mysum = mysum + i\n",
    "print(mysum)"
   ]
  },
  {
   "cell_type": "code",
   "execution_count": 141,
   "metadata": {},
   "outputs": [
    {
     "name": "stdout",
     "output_type": "stream",
     "text": [
      "24\n"
     ]
    }
   ],
   "source": [
    "mysum = 0\n",
    "i = 7\n",
    "mysum = mysum + i\n",
    "i = 8\n",
    "mysum = mysum + i\n",
    "i = 9\n",
    "mysum = mysum + i\n",
    "print(mysum)"
   ]
  },
  {
   "cell_type": "code",
   "execution_count": 142,
   "metadata": {},
   "outputs": [
    {
     "name": "stdout",
     "output_type": "stream",
     "text": [
      "0\n",
      "1\n",
      "2\n",
      "3\n",
      "4\n"
     ]
    }
   ],
   "source": [
    "for n in [0,1,2,3,4]:\n",
    "    print(n)"
   ]
  },
  {
   "cell_type": "code",
   "execution_count": 143,
   "metadata": {},
   "outputs": [],
   "source": [
    "iter_range = range(5)"
   ]
  },
  {
   "cell_type": "code",
   "execution_count": 144,
   "metadata": {},
   "outputs": [
    {
     "data": {
      "text/plain": [
       "3"
      ]
     },
     "execution_count": 144,
     "metadata": {},
     "output_type": "execute_result"
    }
   ],
   "source": [
    "iter_range[3]"
   ]
  },
  {
   "cell_type": "code",
   "execution_count": 145,
   "metadata": {},
   "outputs": [
    {
     "name": "stdout",
     "output_type": "stream",
     "text": [
      "0\n",
      "1\n",
      "2\n",
      "3\n",
      "4\n"
     ]
    }
   ],
   "source": [
    "iter_range = range(5)\n",
    "i = 0\n",
    "\n",
    "while i < len(iter_range):\n",
    "    print(iter_range[i])\n",
    "    i+= 1"
   ]
  },
  {
   "cell_type": "code",
   "execution_count": 146,
   "metadata": {},
   "outputs": [
    {
     "name": "stdout",
     "output_type": "stream",
     "text": [
      "0\n",
      "1\n",
      "2\n",
      "3\n",
      "4\n"
     ]
    }
   ],
   "source": [
    "for n in range(5):\n",
    "    # 0\n",
    "    # 1\n",
    "    # 2\n",
    "    # 3\n",
    "    # 4\n",
    "    print(n)"
   ]
  },
  {
   "cell_type": "code",
   "execution_count": null,
   "metadata": {},
   "outputs": [],
   "source": []
  },
  {
   "cell_type": "code",
   "execution_count": 148,
   "metadata": {},
   "outputs": [
    {
     "name": "stdout",
     "output_type": "stream",
     "text": [
      "5\n"
     ]
    },
    {
     "ename": "NameError",
     "evalue": "name 'archelllll' is not defined",
     "output_type": "error",
     "traceback": [
      "\u001b[1;31m---------------------------------------------------------------------------\u001b[0m",
      "\u001b[1;31mNameError\u001b[0m                                 Traceback (most recent call last)",
      "Cell \u001b[1;32mIn[148], line 7\u001b[0m\n\u001b[0;32m      4\u001b[0m     \u001b[39mprint\u001b[39m(\u001b[39m\"\u001b[39m\u001b[39mARCHEL AAAA\u001b[39m\u001b[39m\"\u001b[39m)\n\u001b[0;32m      5\u001b[0m     archelllll \u001b[39m=\u001b[39m \u001b[39m5\u001b[39m\n\u001b[1;32m----> 7\u001b[0m \u001b[39mprint\u001b[39m(archelllll)\n",
      "\u001b[1;31mNameError\u001b[0m: name 'archelllll' is not defined"
     ]
    }
   ],
   "source": [
    "\n",
    "for j in range(5,10):\n",
    "    print(j)\n",
    "    break\n",
    "    print(\"ARCHEL AAAA\")\n",
    "    archelllll = 5\n",
    "\n",
    "print(archelllll)"
   ]
  },
  {
   "attachments": {},
   "cell_type": "markdown",
   "metadata": {},
   "source": [
    "# LIST"
   ]
  },
  {
   "cell_type": "code",
   "execution_count": 86,
   "metadata": {},
   "outputs": [],
   "source": [
    "nilai_biologi = 3\n",
    "nilai_fisika = 5\n",
    "\n",
    "pelajaran_archel = [\"biologi\", \"fisika\", \"matematika\", \"kimia\"]\n",
    "nilai_pelajaran_sma_archel = [5, 3, 9, 8]"
   ]
  },
  {
   "attachments": {},
   "cell_type": "markdown",
   "metadata": {},
   "source": [
    "## Aplikasi ngejudge nilai Archel"
   ]
  },
  {
   "cell_type": "code",
   "execution_count": 87,
   "metadata": {},
   "outputs": [
    {
     "name": "stdout",
     "output_type": "stream",
     "text": [
      "Nilai biologi adalah 5\n",
      "KAMU KURANG BELAJAR SIH! MAIN MULU\n",
      "Nilai fisika adalah 3\n",
      "KAMU KURANG BELAJAR SIH! MAIN MULU\n",
      "Nilai matematika adalah 9\n",
      "alah hoki aja\n",
      "Nilai kimia adalah 8\n",
      "alah hoki aja\n"
     ]
    }
   ],
   "source": [
    "i = 0\n",
    "for nilai in nilai_pelajaran_sma_archel:\n",
    "    print(f\"Nilai {pelajaran_archel[i]} adalah {nilai}\")\n",
    "    if nilai < 6:\n",
    "        print(\"KAMU KURANG BELAJAR SIH! MAIN MULU\")\n",
    "    else:\n",
    "        print(\"alah hoki aja\")\n",
    "    i += 1"
   ]
  },
  {
   "attachments": {},
   "cell_type": "markdown",
   "metadata": {},
   "source": [
    "## Teaser"
   ]
  },
  {
   "attachments": {},
   "cell_type": "markdown",
   "metadata": {},
   "source": [
    "- Dictionary, Set, List\n",
    "- Function"
   ]
  },
  {
   "cell_type": "code",
   "execution_count": 92,
   "metadata": {},
   "outputs": [],
   "source": [
    "# map | dictionary\n",
    "# key: value\n",
    "\n",
    "nilai_pelajaran_sma_archel_dict = {\n",
    "    \"biologi\": {\n",
    "        \"apa sih\": 3\n",
    "    },\n",
    "    \"fisika\": 3,\n",
    "    \"matematika\": 9,\n",
    "    \"kimia\": 8\n",
    "}"
   ]
  },
  {
   "cell_type": "code",
   "execution_count": 94,
   "metadata": {},
   "outputs": [
    {
     "data": {
      "text/plain": [
       "3"
      ]
     },
     "execution_count": 94,
     "metadata": {},
     "output_type": "execute_result"
    }
   ],
   "source": [
    "nilai_pelajaran_sma_archel_dict[\"fisika\"]"
   ]
  },
  {
   "cell_type": "code",
   "execution_count": 100,
   "metadata": {},
   "outputs": [],
   "source": [
    "aaa = sum([1,4,5,6])"
   ]
  },
  {
   "cell_type": "code",
   "execution_count": 101,
   "metadata": {},
   "outputs": [
    {
     "data": {
      "text/plain": [
       "16"
      ]
     },
     "execution_count": 101,
     "metadata": {},
     "output_type": "execute_result"
    }
   ],
   "source": [
    "aaa"
   ]
  },
  {
   "cell_type": "code",
   "execution_count": 76,
   "metadata": {},
   "outputs": [],
   "source": [
    "nilai_pelajaran_sma_archel.append(10)"
   ]
  },
  {
   "cell_type": "code",
   "execution_count": 77,
   "metadata": {},
   "outputs": [
    {
     "data": {
      "text/plain": [
       "[5, 3, 10]"
      ]
     },
     "execution_count": 77,
     "metadata": {},
     "output_type": "execute_result"
    }
   ],
   "source": [
    "nilai_pelajaran_sma_archel"
   ]
  },
  {
   "cell_type": "code",
   "execution_count": 78,
   "metadata": {},
   "outputs": [],
   "source": [
    "nilai_pelajaran_sma_archel.remove(3)"
   ]
  },
  {
   "cell_type": "code",
   "execution_count": 79,
   "metadata": {},
   "outputs": [
    {
     "data": {
      "text/plain": [
       "[5, 10]"
      ]
     },
     "execution_count": 79,
     "metadata": {},
     "output_type": "execute_result"
    }
   ],
   "source": [
    "nilai_pelajaran_sma_archel"
   ]
  },
  {
   "attachments": {},
   "cell_type": "markdown",
   "metadata": {},
   "source": [
    "PR 1: Diberikan tiga inputan dengan kriteria sebagai berikut.  \n",
    "- Nama\n",
    "- Gender (male | female)\n",
    "- Usia\n",
    "\n",
    "Kriteria:  \n",
    "1. Apabila usia di bawah 30 tahun, dengan gender \"male\", output: \"Halo Mas XXX.\"\n",
    "2. Apabila usia 30 tahun ke atas, dengan gender \"male\", output: \"Halo Pak XXX.\"\n",
    "3. Apabila usia di bawah 30 tahun, dengan gender \"female\", output: \"Halo Mbak XXX.\"\n",
    "4. Apabila usia 30 tahun ke atas, dengan gender \"female\", output: \"Halo Bu XXX.\""
   ]
  },
  {
   "attachments": {},
   "cell_type": "markdown",
   "metadata": {},
   "source": [
    "PR: Terdapat dua buah persegi yang masing-masing dapat saling menumpuk (overlay) dengan titik pada sumbu x dan y seperti contoh gambar berikut.  \n",
    "\n",
    "![dua_kotak.png](data:image/png;base64,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)\n",
    "\n",
    "Ketentuan:\n",
    "- Masing-masing titik ditentukan oleh inputan A, B, C, D, E, F, G, H secara dinamis.  \n",
    "- koordinat dari masing-masing titik dapat berupa angka negatif, namun luasnya tetap bernilai positif.  \n",
    "\n",
    "Challenge: Tentukan luas seluruh area yang tertutup oleh dua buah kotak tersebut.  \n",
    "Hints: Hitung luas area yang saling overlay terlebih dahulu untuk mengurangi luas salah satu kotak.  \n",
    "Contoh:  \n",
    "Inputan: A = -3, B = 0, C = 3, D = 4, E = 0, F = -1, G = 9, H = 2.  \n",
    "Luas Area: 45  \n"
   ]
  },
  {
   "attachments": {},
   "cell_type": "markdown",
   "metadata": {},
   "source": [
    "PR 3: Genshin Wishing Simulator"
   ]
  },
  {
   "cell_type": "code",
   "execution_count": 103,
   "metadata": {},
   "outputs": [],
   "source": [
    "import random"
   ]
  },
  {
   "cell_type": "code",
   "execution_count": 109,
   "metadata": {},
   "outputs": [
    {
     "data": {
      "text/plain": [
       "9"
      ]
     },
     "execution_count": 109,
     "metadata": {},
     "output_type": "execute_result"
    }
   ],
   "source": [
    "random.randint(1,10)"
   ]
  },
  {
   "cell_type": "code",
   "execution_count": null,
   "metadata": {},
   "outputs": [],
   "source": [
    "# given 4 chars, 1 5*, 3, 4*..\n",
    "# dah bikin simulatornya beserta pity system"
   ]
  }
 ],
 "metadata": {
  "kernelspec": {
   "display_name": "base",
   "language": "python",
   "name": "python3"
  },
  "language_info": {
   "codemirror_mode": {
    "name": "ipython",
    "version": 3
   },
   "file_extension": ".py",
   "mimetype": "text/x-python",
   "name": "python",
   "nbconvert_exporter": "python",
   "pygments_lexer": "ipython3",
   "version": "3.9.1"
  },
  "orig_nbformat": 4
 },
 "nbformat": 4,
 "nbformat_minor": 2
}
