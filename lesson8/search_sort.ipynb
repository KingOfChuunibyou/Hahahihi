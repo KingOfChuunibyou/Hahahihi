{
 "cells": [
  {
   "cell_type": "code",
   "execution_count": 22,
   "metadata": {},
   "outputs": [],
   "source": [
    "\n",
    "data = [1,4,8,12,15,17, 28, 36,42, 55]\n",
    "search_imp = 8"
   ]
  },
  {
   "cell_type": "code",
   "execution_count": 23,
   "metadata": {},
   "outputs": [],
   "source": [
    "len_data  = len(data)"
   ]
  },
  {
   "cell_type": "code",
   "execution_count": 24,
   "metadata": {},
   "outputs": [],
   "source": [
    "mid = len_data // 2"
   ]
  },
  {
   "cell_type": "code",
   "execution_count": 25,
   "metadata": {},
   "outputs": [
    {
     "data": {
      "text/plain": [
       "5"
      ]
     },
     "execution_count": 25,
     "metadata": {},
     "output_type": "execute_result"
    }
   ],
   "source": [
    "mid"
   ]
  },
  {
   "cell_type": "code",
   "execution_count": 68,
   "metadata": {},
   "outputs": [],
   "source": [
    "def binary_search(data, search_inp, left=0):\n",
    "    len_data  = len(data)\n",
    "    mid = len_data // 2\n",
    "    print(len_data)\n",
    "\n",
    "    # klo data udah len 1 (e.g.: [12], tapi nyari 11), ternyata bukan yang dicari langsung -1\n",
    "    if len_data == 1 and data[mid] != search_inp:\n",
    "        return -1\n",
    "\n",
    "    if data[mid] == search_inp:\n",
    "        return left+mid\n",
    "    \n",
    "    # search left or right?\n",
    "    elif search_inp > data[mid]:\n",
    "        # search_inp dikanan\n",
    "        # [1,4,8,12,15,17, 28, 36,42]\n",
    "        data_yg_dicari_selanjutnya = data[mid+1:len_data]  # DARI TENGAH + 1 SAMPE LEN_DATA (LEN_DATA GA MASUK)\n",
    "        print(data_yg_dicari_selanjutnya)\n",
    "\n",
    "        return binary_search(data_yg_dicari_selanjutnya, search_inp, left+mid+1)\n",
    "    else:\n",
    "        # search_inp dikiri\n",
    "        data_yg_dicari_selanjutnya =  data[0:mid]  # DARI 0 SAMPE TENGAH (TENGAH GA MASUK)\n",
    "        print(data_yg_dicari_selanjutnya)\n",
    "\n",
    "        return binary_search(data_yg_dicari_selanjutnya, search_inp, left)\n",
    "\n",
    "\n",
    "        "
   ]
  },
  {
   "cell_type": "code",
   "execution_count": 71,
   "metadata": {},
   "outputs": [],
   "source": [
    "data = [1,4,8,12,15,17, 28, 36,42]\n",
    "# data = [11]"
   ]
  },
  {
   "cell_type": "code",
   "execution_count": 72,
   "metadata": {},
   "outputs": [
    {
     "name": "stdout",
     "output_type": "stream",
     "text": [
      "1\n",
      "Hasil:  0\n"
     ]
    }
   ],
   "source": [
    "print(\"Hasil: \", binary_search(data, 11))"
   ]
  },
  {
   "cell_type": "code",
   "execution_count": 74,
   "metadata": {},
   "outputs": [
    {
     "name": "stdout",
     "output_type": "stream",
     "text": [
      "81\n"
     ]
    }
   ],
   "source": [
    "def nganu(x, n):\n",
    "    if n == 0:\n",
    "        return 1\n",
    "    else:\n",
    "        temp = nganu(x, n // 2)\n",
    "        if n % 2 == 0:\n",
    "            return temp * temp\n",
    "        else:\n",
    "            return x * temp * temp\n",
    "\n",
    "print(nganu(3,4))"
   ]
  },
  {
   "cell_type": "code",
   "execution_count": 75,
   "metadata": {},
   "outputs": [
    {
     "name": "stdout",
     "output_type": "stream",
     "text": [
      "[[84, 90, 96], [201, 216, 231], [318, 342, 366]]\n"
     ]
    }
   ],
   "source": [
    "def kucing_petok_petok(matrix1, matrix2):\n",
    "    result = [[0 for _ in range(len(matrix2[0]))] for _ in range(len(matrix1))]\n",
    "    \n",
    "    for i in range(len(matrix1)):\n",
    "        for j in range(len(matrix2[0])):\n",
    "            for k in range(len(matrix2)):\n",
    "                result[i][j] += matrix1[i][k] * matrix2[k][j]\n",
    "    return result\n",
    "\n",
    "matrix1 = [[1, 2, 3],\n",
    "           [4, 5, 6],\n",
    "           [7, 8, 9]]\n",
    "\n",
    "matrix2 = [[10, 11, 12],\n",
    "           [13, 14, 15],\n",
    "           [16, 17, 18]]\n",
    "\n",
    "print(kucing_petok_petok(matrix1, matrix2))"
   ]
  },
  {
   "cell_type": "code",
   "execution_count": null,
   "metadata": {},
   "outputs": [],
   "source": []
  }
 ],
 "metadata": {
  "kernelspec": {
   "display_name": "base",
   "language": "python",
   "name": "python3"
  },
  "language_info": {
   "codemirror_mode": {
    "name": "ipython",
    "version": 3
   },
   "file_extension": ".py",
   "mimetype": "text/x-python",
   "name": "python",
   "nbconvert_exporter": "python",
   "pygments_lexer": "ipython3",
   "version": "3.9.1"
  },
  "orig_nbformat": 4
 },
 "nbformat": 4,
 "nbformat_minor": 2
}
