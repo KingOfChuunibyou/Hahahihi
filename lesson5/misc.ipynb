{
 "cells": [
  {
   "cell_type": "code",
   "execution_count": 7,
   "metadata": {},
   "outputs": [
    {
     "name": "stdout",
     "output_type": "stream",
     "text": [
      "1 2\n",
      "2 3\n",
      "2 4\n"
     ]
    }
   ],
   "source": [
    "for diagnosis, symptom in [(1,2),(2,3),(2,4)]:\n",
    "    print(diagnosis, symptom)"
   ]
  },
  {
   "cell_type": "code",
   "execution_count": 10,
   "metadata": {},
   "outputs": [
    {
     "name": "stdout",
     "output_type": "stream",
     "text": [
      "2 1\n"
     ]
    }
   ],
   "source": [
    "air_putih = 1\n",
    "teh  = 2\n",
    "\n",
    "# b = 1, a = 2\n",
    "gelas_kosong = air_putih\n",
    "air_putih = teh\n",
    "teh = gelas_kosong\n",
    "\n",
    "print(air_putih, teh)"
   ]
  },
  {
   "cell_type": "code",
   "execution_count": 16,
   "metadata": {},
   "outputs": [
    {
     "name": "stdout",
     "output_type": "stream",
     "text": [
      "meongg\n",
      "0\n"
     ]
    },
    {
     "ename": "NameError",
     "evalue": "name 'suara_ayam' is not defined",
     "output_type": "error",
     "traceback": [
      "\u001b[1;31m---------------------------------------------------------------------------\u001b[0m",
      "\u001b[1;31mNameError\u001b[0m                                 Traceback (most recent call last)",
      "Cell \u001b[1;32mIn[16], line 14\u001b[0m\n\u001b[0;32m     11\u001b[0m     \u001b[39mreturn\u001b[39;00m suara_ayam\n\u001b[0;32m     13\u001b[0m ayam_petok()\n\u001b[1;32m---> 14\u001b[0m \u001b[39mprint\u001b[39m(suara_ayam)\n",
      "\u001b[1;31mNameError\u001b[0m: name 'suara_ayam' is not defined"
     ]
    }
   ],
   "source": [
    "meong = 'meongg'  # Global variable\n",
    "\n",
    "for i in range(10):\n",
    "    break\n",
    "\n",
    "def ayam_petok():\n",
    "    # LOCAL VARIABLE\n",
    "    print(meong)\n",
    "    print(i)\n",
    "    suara_ayam = 'petok petok'\n",
    "    print(suara_ayam)\n",
    "    return suara_ayam\n",
    "\n",
    "ayam_petok()\n",
    "print(suara_ayam)"
   ]
  },
  {
   "cell_type": "code",
   "execution_count": null,
   "metadata": {},
   "outputs": [],
   "source": []
  },
  {
   "cell_type": "code",
   "execution_count": 13,
   "metadata": {},
   "outputs": [
    {
     "name": "stdout",
     "output_type": "stream",
     "text": [
      "2 1\n"
     ]
    }
   ],
   "source": [
    "print(air_putih, teh)"
   ]
  },
  {
   "cell_type": "code",
   "execution_count": 5,
   "metadata": {},
   "outputs": [
    {
     "name": "stdout",
     "output_type": "stream",
     "text": [
      "['fever', 'cough', 'sore throat', 'body aches', 'fatigue']\n"
     ]
    }
   ],
   "source": [
    "(a,b) = (\"Flu\", [\"fever\", \"cough\", \"sore throat\", \"body aches\", \"fatigue\"])\n",
    "\n",
    "# a = Flu\n",
    "# b = [\"fever\", \"cough\", \"sore throat\", \"body aches\", \"fatigue\"]\n",
    "print(b)"
   ]
  },
  {
   "cell_type": "code",
   "execution_count": null,
   "metadata": {},
   "outputs": [],
   "source": []
  },
  {
   "cell_type": "code",
   "execution_count": null,
   "metadata": {},
   "outputs": [],
   "source": []
  }
 ],
 "metadata": {
  "kernelspec": {
   "display_name": "base",
   "language": "python",
   "name": "python3"
  },
  "language_info": {
   "codemirror_mode": {
    "name": "ipython",
    "version": 3
   },
   "file_extension": ".py",
   "mimetype": "text/x-python",
   "name": "python",
   "nbconvert_exporter": "python",
   "pygments_lexer": "ipython3",
   "version": "3.9.1"
  },
  "orig_nbformat": 4
 },
 "nbformat": 4,
 "nbformat_minor": 2
}
